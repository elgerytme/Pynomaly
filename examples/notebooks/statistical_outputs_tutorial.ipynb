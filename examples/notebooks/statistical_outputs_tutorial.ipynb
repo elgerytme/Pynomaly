{
 "cells": [
  {
   "cell_type": "markdown",
   "metadata": {},
   "source": [
    "# Tutorial: Understanding Statistical Outputs\n",
    "\n",
    "This tutorial demonstrates how to interpret the statistical outputs provided by Pynomaly, including confidence intervals and statistical analysis for anomaly detection results.\n",
    "\n",
    "## Objectives\n",
    "- Understand the difference between parametric and non-parametric methods\n",
    "- Learn to use Pynomaly's statistical endpoints\n",
    "- Visualize confidence intervals and understand their significance\n"
   ]
  },
  {
   "cell_type": "markdown",
   "metadata": {},
   "source": [
    "## Parametric vs. Non-Parametric Statistics\n",
    "### Parametric Methods\n",
    "- Assume underlying statistical distributions\n",
    "- Utilize known parameters to estimate outcomes\n",
    "- Examples: t-distribution confidence intervals\n",
    "\n",
    "### Non-Parametric Methods\n",
    "- No assumptions about data distributions\n",
    "- More flexibility with high-dimensional data\n",
    "- Examples: Bootstrap confidence intervals\n"
   ]
  },
  {
   "cell_type": "code",
   "execution_count": 1,
   "metadata": {},
   "outputs": [],
   "source": [
    "# Importing necessary libraries\n",
    "import requests\n",
    "import matplotlib.pyplot as plt\n",
    "\n",
    "# Hypothetical function to call API and receive a response\n",
    "def call_statistical_analysis_api(data):\n",
    "    url = \"http://localhost:8000/api/detection/statistics\"\n",
    "    response = requests.post(url, json=data)\n",
    "    return response.json()\n",
    "\n",
    "# Sample data for demonstration\n",
    "data = {\n",
    "    \"detector_id\": \"detector_001\",\n",
    "    \"anomaly_scores\": [0.6, 0.7, 0.8, 0.7, 0.9]\n",
    "}\n",
    "\n",
    "# Call the API\n",
    "results = call_statistical_analysis_api(data)\n",
    "print(results)"
   ]
  },
  {
   "cell_type": "markdown",
   "metadata": {},
   "source": [
    "## Visualizing Confidence Intervals\n",
    "\n",
    "```python\n",
    "# Example visualization\n",
    "# Assuming `results` contains confidence intervals\n",
    "confidence_intervals = results.get('confidence_intervals', [])\n",
    "scores = data['anomaly_scores']\n",
    "\n",
    "plt.errorbar(range(len(scores)), scores,\n",
    "             yerr=[(ci['upper'] - ci['lower']) / 2 for ci in confidence_intervals],\n",
    "             fmt='o')\n",
    "plt.title('Anomaly Scores with Confidence Intervals')\n",
    "plt.xlabel('Anomaly Index')\n",
    "plt.ylabel('Score')\n",
    "plt.show()\n",
    "```\n"
   ]
  },
  {
   "cell_type": "markdown",
   "metadata": {},
   "source": [
    "---\n",
    "## Conclusion\n",
    "\n",
    "This tutorial covered the essential aspects of interpreting statistical outputs from Pynomaly. Understanding these outputs is crucial for effective anomaly detection and decision-making.\n",
    "Feel free to explore further and customize these examples to fit specific analytical needs."
   ]
  }
 ],
 "metadata": {
  "kernelspec": {
   "display_name": "Python 3",
   "language": "python",
   "name": "python3"
  },
  "language_info": {
   "name": "python",
   "version": "3.8.8"
  }
 },
 "nbformat": 4,
 "nbformat_minor": 5
}

