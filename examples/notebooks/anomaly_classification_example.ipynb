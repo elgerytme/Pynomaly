{
 "cells": [
  {
   "cell_type": "markdown",
   "metadata": {},
   "source": [
    "# Anomaly Classification Example\n",
    "\n",
    "This notebook demonstrates the usage of the Pynomaly classification service to categorize anomalies into severity and type dimensions.\n",
    "\n",
    "We'll start by initializing the classification service, then demonstrate both default and custom classifier usage.\n",
    "\n",
    "\n",
    """
   ]
  },
  {
   "cell_type": "code",
   "execution_count": null,
   "metadata": {},
   "outputs": [],
   "source": [
    "# Import necessary components\n",
    "from pynomaly.application.services.anomaly_classification_service import AnomalyClassificationService\n",
    "from pynomaly.domain.entities.anomaly import Anomaly\n",
    "from pynomaly.domain.value_objects.anomaly_score import AnomalyScore\n",
    "\n",
    "# Initialize classification service\n",
    "service = AnomalyClassificationService()\n",
    "\n",
    "# Create a sample anomaly\n",
    "anomaly = Anomaly(\n",
    "    id=\"sample-001\",\n",
    "    score=AnomalyScore(0.85),\n",
    "    data_point={\"feature1\": 2.0, \"feature2\": 5.0}\n",
    ")\n",
    "\n",
    "# Classify the anomaly\n",
    "service.classify(anomaly)\n",
    "\n",
    "# Display classification results\n",
    "print(f'Severity: {anomaly.metadata.get('severity')}')\n",
    "print(f'Type: {anomaly.metadata.get('type')}')"
   ]
  },
  {
   "cell_type": "markdown",
   "metadata": {},
   "source": [
    "## Using Custom Classifiers\n",
    "\n",
    "Now, let's demonstrate using custom classifiers to tailor the classification logic further. We'll implement a custom severity classifier with higher thresholds.\n",
    "\n"
   ]
  },
  {
   "cell_type": "code",
   "execution_count": null,
   "metadata": {},
   "outputs": [],
   "source": [
    "from pynomaly.domain.services.anomaly_classifiers import DefaultSeverityClassifier\n",
    "\n",
    "# A custom severity classifier with stricter thresholds\n",
    "custom_severity_classifier = DefaultSeverityClassifier({\n",
    "    'critical': 0.95,\n",
    "    'high': 0.85,\n",
    "    'medium': 0.75,\n",
    "    'low': 0.6\n",
    "})\n",
    "\n",
    "# Re-initialize service with custom classifier\n",
    "service.set_severity_classifier(custom_severity_classifier)\n",
    "\n",
    "# Classify again\n",
    "service.classify(anomaly)\n",
    "\n",
    "# Display updated classification results\n",
    "print(f'Custom Severity: {anomaly.metadata.get('severity')}')\n"
   ]
  }
 ],
 "metadata": {
  "kernelspec": {
   "display_name": "Python 3",
   "language": "python",
   "name": "python3"
  },
  "language_info": {
   "codemirror_mode": {
    "name": "ipython",
    "version": 3
   },
   "file_extension": ".py",
   "mimetype": "text/x-python",
   "name": "python",
   "nbconvert_exporter": "python",
   "pygments_lexer": "ipython3",
   "version": "3.8.8"
  }
 },
 "nbformat": 4,
 "nbformat_minor": 5
}

